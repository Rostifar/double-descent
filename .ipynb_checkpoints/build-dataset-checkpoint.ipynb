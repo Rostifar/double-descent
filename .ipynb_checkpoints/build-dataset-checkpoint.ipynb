{
 "cells": [
  {
   "cell_type": "code",
   "execution_count": 4,
   "metadata": {},
   "outputs": [],
   "source": [
    "import numpy as np\n",
    "import torch\n",
    "import torch.nn as nn\n",
    "\n",
    "\n",
    "\n",
    "\n",
    "\n",
    "\n"
   ]
  },
  {
   "cell_type": "code",
   "execution_count": null,
   "metadata": {
    "pycharm": {
     "name": "#%%\n"
    }
   },
   "outputs": [],
   "source": [
    "np.random.binomial(1, 0.9)"
   ]
  },
  {
   "cell_type": "code",
   "execution_count": 25,
   "metadata": {
    "pycharm": {
     "name": "#%%\n"
    }
   },
   "outputs": [],
   "source": [
    "label = 0\n",
    "idx = np.random.choice(10, 1, p=[(1/9) if i != label else 0.0 for i in range(10)])[0]\n"
   ]
  },
  {
   "cell_type": "code",
   "execution_count": 26,
   "metadata": {},
   "outputs": [
    {
     "data": {
      "text/plain": [
       "1"
      ]
     },
     "execution_count": 26,
     "metadata": {},
     "output_type": "execute_result"
    }
   ],
   "source": [
    "idx"
   ]
  },
  {
   "cell_type": "code",
   "execution_count": 28,
   "metadata": {},
   "outputs": [
    {
     "ename": "IndentationError",
     "evalue": "unexpected indent (<ipython-input-28-b387a6a45eb4>, line 69)",
     "output_type": "error",
     "traceback": [
      "\u001b[0;36m  File \u001b[0;32m\"<ipython-input-28-b387a6a45eb4>\"\u001b[0;36m, line \u001b[0;32m69\u001b[0m\n\u001b[0;31m    pickle.save\u001b[0m\n\u001b[0m    ^\u001b[0m\n\u001b[0;31mIndentationError\u001b[0m\u001b[0;31m:\u001b[0m unexpected indent\n"
     ]
    }
   ],
   "source": [
    "import torchvision\n",
    "import pickle\n",
    "import os\n",
    "import sys\n",
    "\n",
    "import numpy as np\n",
    "from torchvision.datasets import cifar\n",
    "\n",
    "\n",
    "class CIFAR10Noisy(cifar.CIFAR10):\n",
    "    def __init__(self, root, noise, train=True, transform=None, target_transform=None,\n",
    "                 download=False):\n",
    "\n",
    "        super(CIFAR10Noisy, self).__init__(root, transform=transform,\n",
    "                                      target_transform=target_transform)\n",
    "\n",
    "        self.train = train  # training set or test set\n",
    "\n",
    "        if download:\n",
    "            self.download()\n",
    "\n",
    "        if not self._check_integrity():\n",
    "            raise RuntimeError('Dataset not found or corrupted.' +\n",
    "                               ' You can use download=True to download it')\n",
    "\n",
    "        if self.train:\n",
    "            downloaded_list = self.train_list\n",
    "        else:\n",
    "            downloaded_list = self.test_list\n",
    "        \n",
    "        c_1 = 0\n",
    "        c_2 = 0\n",
    "        \n",
    "        self.data = []\n",
    "        self.targets = []\n",
    "\n",
    "        # now load the picked numpy arrays\n",
    "        for file_name, checksum in downloaded_list:\n",
    "            file_path = os.path.join(self.root, self.base_folder, file_name)\n",
    "            with open(file_path, 'rb') as f:\n",
    "                if sys.version_info[0] == 2:\n",
    "                    entry = pickle.load(f)\n",
    "                else:\n",
    "                    entry = pickle.load(f, encoding='latin1')\n",
    "                self.data.append(entry['data'])\n",
    "                if 'labels' in entry:\n",
    "                    switch = np.random.binomial(1, p=noise)\n",
    "                    if switch:\n",
    "                        label = int(entry['labels'])\n",
    "                        new_label = np.random.choice(10, 1, p=[(1/9) if i != label else 0.0 for i in range(10)])[0]\n",
    "                        assert new_label != label\n",
    "                        self.targets.extend(new_label)\n",
    "                        entry['labels'] = new_label\n",
    "                        c_1 += 1\n",
    "                    else:\n",
    "                        self.targets.extend(entry['labels'])\n",
    "                    c_2 += 1\n",
    "                else:\n",
    "                    self.targets.extend(entry['fine_labels'])\n",
    "            \n",
    "            if self.train:\n",
    "                with open(file_path, 'wb') as f:\n",
    "                    pickle.dump(entry, f)\n",
    "                \n",
    "        self.data = np.vstack(self.data).reshape(-1, 3, 32, 32)\n",
    "        self.data = self.data.transpose((0, 2, 3, 1))  # convert to HWC\n",
    "\n",
    "        self._load_meta()\n",
    "        \n",
    "        print(float(c_1) / float(c_2))\n",
    "\n",
    "torchvision.datasets.CIFAR10(root='./data/cifar-10-noise-10', train=True,\n",
    "                                            download=True)\n"
   ]
  },
  {
   "cell_type": "code",
   "execution_count": null,
   "metadata": {},
   "outputs": [],
   "source": []
  }
 ],
 "metadata": {
  "kernelspec": {
   "display_name": "Python 3",
   "language": "python",
   "name": "python3"
  },
  "language_info": {
   "codemirror_mode": {
    "name": "ipython",
    "version": 3
   },
   "file_extension": ".py",
   "mimetype": "text/x-python",
   "name": "python",
   "nbconvert_exporter": "python",
   "pygments_lexer": "ipython3",
   "version": "3.7.4"
  }
 },
 "nbformat": 4,
 "nbformat_minor": 1
}
